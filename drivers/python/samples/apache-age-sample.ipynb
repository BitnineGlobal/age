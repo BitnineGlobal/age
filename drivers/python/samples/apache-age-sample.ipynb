{
 "cells": [
  {
   "cell_type": "code",
   "execution_count": null,
   "metadata": {},
   "outputs": [],
   "source": [
    "import age\n",
    "con = age.Age()\n",
    "con.connect(\n",
    "    host=\"localhost\",\n",
    "    port=\"5430\",\n",
    "    dbname=\"postgresDB\",\n",
    "    user=\"postgresUser\",\n",
    "    password=\"postgresPW\",\n",
    ")\n",
    "con.create_graph( graphName = \"munmud_graph\")"
   ]
  },
  {
   "cell_type": "code",
   "execution_count": null,
   "metadata": {},
   "outputs": [],
   "source": [
    "con.set_vertices(\n",
    "    graphName = \"munmud_graph\", \n",
    "    label=\"City\", \n",
    "    property={\n",
    "        \"name\" : \"Dhaka\",\n",
    "        \"Area_in_sqrt_km\" : 306.4\n",
    "    }\n",
    ")\n",
    "con.set_vertices(\n",
    "    graphName = \"munmud_graph\", \n",
    "    label=\"City\", \n",
    "    property={\n",
    "        \"name\" : \"Rajshahi\",\n",
    "        \"Area_in_sqrt_km\" : 121 \n",
    "    }\n",
    ")"
   ]
  },
  {
   "cell_type": "code",
   "execution_count": null,
   "metadata": {},
   "outputs": [],
   "source": [
    "con.set_edge( \n",
    "    graphName = \"munmud_graph\", \n",
    "    label1=\"City\", \n",
    "    prop1={\"name\" : \"Dhaka\",}, \n",
    "    label2=\"City\", \n",
    "    prop2={\"name\" : \"Rajshahi\"}, \n",
    "    edge_label = \"Neighbour\", \n",
    "    edge_prop = {\"distance\":\"5\"}\n",
    ")"
   ]
  },
  {
   "cell_type": "code",
   "execution_count": null,
   "metadata": {},
   "outputs": [],
   "source": [
    "for edge in con.get_all_edge():\n",
    "    print(edge['e']['distance'])"
   ]
  },
  {
   "cell_type": "code",
   "execution_count": null,
   "metadata": {},
   "outputs": [],
   "source": [
    "for node in con.get_all_vertices():\n",
    "    print(node)"
   ]
  },
  {
   "cell_type": "code",
   "execution_count": null,
   "metadata": {},
   "outputs": [],
   "source": [
    "con.delete_graph (graphName = \"munmud_graph\")"
   ]
  }
 ],
 "metadata": {
  "kernelspec": {
   "display_name": "Python 3",
   "language": "python",
   "name": "python3"
  },
  "language_info": {
   "name": "python",
   "version": "3.10.6"
  },
  "orig_nbformat": 4
 },
 "nbformat": 4,
 "nbformat_minor": 2
}
